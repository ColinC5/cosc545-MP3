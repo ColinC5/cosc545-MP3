{
 "cells": [
  {
   "cell_type": "code",
   "execution_count": 5,
   "id": "cb65ae37-8f9b-46df-9783-f76b32886648",
   "metadata": {},
   "outputs": [],
   "source": [
    "import json, re, gzip\n",
    "import requests\n",
    "from urlextract import URLExtract\n",
    "\n",
    "#for this project, the only input files you will see are my own\n",
    "#every other input file was deleted\n",
    "\n",
    "utid = 'yarddoga'\n",
    "base_urls = {'model': 'https://huggingface.co/', 'data': 'https://huggingface.co/datasets/', 'source': 'https://'}\n",
    "post = '/raw/main/README.md'\n",
    "postGH = 'blob/master/README.md'\n",
    "\n",
    "extU = URLExtract()\n",
    "DOIpattern = r'\\b(10\\.\\d{4,9}\\/[-._;()/:A-Z0-9]+)\\b/i'\n",
    "#r1\\b(10[.][0-9]{4,}(?:[.][0-9]+)*/(?:(?![\"&\\'<>])[[:graph:]])+)\\b'\n",
    "\n",
    "def extractURLs(c):\n",
    "    return extU.find_urls(c)\n",
    "\n",
    "def extractDOIs(c):\n",
    "    return re.findall(DOIpattern, c)\n",
    "\n",
    "def process_type(tp):\n",
    "    with open(f\"input/{utid}_{tp}\", 'r') as f:\n",
    "        for line in f:\n",
    "            line = line.strip()\n",
    "            post_suffix = postGH if tp == 'source' else post\n",
    "            id = line.split(';')[1] if tp == 'source' else line\n",
    "            \n",
    "            url = f\"{base_urls[tp]}{id}{post_suffix}\"\n",
    "            r = requests.get(url)\n",
    "            if r.status_code != 200:\n",
    "                continue\n",
    "            \n",
    "            content = r.text.replace('\\n', ' ')\n",
    "            urls = extractURLs(content)\n",
    "            dois = extractDOIs(content)\n",
    "            \n",
    "            res = {'id': id, 'type': tp, 'url': url, 'content': content,'links': urls, 'dois': dois, 'bibs': []}\n",
    "            yield res\n",
    "\n",
    "with gzip.open(f\"output/{utid}.json.gz\", 'wt', encoding='utf-8') as fo:\n",
    "    for tp in ['model', 'data', 'source']:\n",
    "        for entry in process_type(tp):\n",
    "            json.dump(entry, fo)\n",
    "            fo.write('\\n')"
   ]
  },
  {
   "cell_type": "code",
   "execution_count": null,
   "id": "15a55c44-4b04-4429-b187-7eacc6f8e743",
   "metadata": {},
   "outputs": [],
   "source": []
  }
 ],
 "metadata": {
  "kernelspec": {
   "display_name": "Python 3 (ipykernel)",
   "language": "python",
   "name": "python3"
  },
  "language_info": {
   "codemirror_mode": {
    "name": "ipython",
    "version": 3
   },
   "file_extension": ".py",
   "mimetype": "text/x-python",
   "name": "python",
   "nbconvert_exporter": "python",
   "pygments_lexer": "ipython3",
   "version": "3.9.12"
  }
 },
 "nbformat": 4,
 "nbformat_minor": 5
}
