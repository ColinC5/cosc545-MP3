{
 "cells": [
  {
   "cell_type": "code",
   "execution_count": null,
   "metadata": {},
   "outputs": [],
   "source": [
    "import json, re\n",
    "import requests\n",
    "from urlextract import URLExtract\n",
    "import sys, gzip\n",
    "\n",
    "utid = 'mkelle37'\n",
    "base = {'model': 'https://huggingface.co/', 'data': 'https://huggingface.co/datasets/', 'source': 'https://'}\n",
    "post = '/raw/main/README.md'\n",
    "postGH = 'blob/master/README.md'\n",
    "\n",
    "DOIpattern = r'\\b(10\\.\\d{4,9}\\/[-._;()/:A-Z0-9]+)\\b/i'\n",
    "extU = URLExtract()\n",
    "\n",
    "def extractURLs(content):\n",
    "    return extU.find_urls(content)\n",
    "\n",
    "def extractDOIs(content):\n",
    "    return re.findall(DOIpattern, content)\n",
    "\n",
    "def run(tp):\n",
    "    post0 = post if tp != 'source' else postGH\n",
    "    with gzip.open(f\"output/{utid}.json.gz\", 'at', encoding='utf-8') as fo:\n",
    "        with open(f\"input/{utid}_{tp}\", 'r') as f:\n",
    "            for line in f:\n",
    "                line = line.strip()\n",
    "                id = line.split(';')[1] if tp == 'source' else line\n",
    "                url = f\"{base[tp]}{id}{post0}\"\n",
    "                r = requests.get(url)\n",
    "                if r.status_code != 200:\n",
    "                    continue\n",
    "                \n",
    "                content = r.text.replace('\\n', ' ')\n",
    "                urls = extractURLs(content)\n",
    "                dois = extractDOIs(content)\n",
    "                res = { 'ID': line, 'type': tp, 'url': url, 'content': content, 'links': urls, 'dois': dois }\n",
    "                json.dump(res, fo)\n",
    "                fo.write('\\n')\n",
    "\n",
    "run('model')\n",
    "run('data')\n",
    "run('source')"
   ]
  }
 ],
 "metadata": {
  "kernelspec": {
   "display_name": "Python 3",
   "language": "python",
   "name": "python3"
  },
  "language_info": {
   "codemirror_mode": {
    "name": "ipython",
    "version": 3
   },
   "file_extension": ".py",
   "mimetype": "text/x-python",
   "name": "python",
   "nbconvert_exporter": "python",
   "pygments_lexer": "ipython3",
   "version": "3.12.6"
  }
 },
 "nbformat": 4,
 "nbformat_minor": 2
}
